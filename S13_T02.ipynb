{
 "cells": [
  {
   "cell_type": "markdown",
   "id": "a93ecd39",
   "metadata": {},
   "source": [
    "# S13 T02: Base de datos MySQL\n",
    "### Descripción\n",
    "Crear base de datos con MySQL.\n",
    "\n",
    "___\n",
    "## Nivel 1\n",
    "### - Ejercicio 1\n",
    "Crea una base de datos relacionales sencilla utilizando MySQL( https://www.mysql.com/ ) y conéctala a Python\n"
   ]
  },
  {
   "cell_type": "code",
   "execution_count": 1,
   "id": "5efd706f",
   "metadata": {},
   "outputs": [],
   "source": [
    "# Import Libraries\n",
    "import mysql.connector\n",
    "from mysql.connector import connect, Error\n",
    "from getpass import getpass\n",
    "import numpy as np\n",
    "import pandas as pd\n",
    "import matplotlib.pyplot as plt\n",
    "import seaborn as sns"
   ]
  },
  {
   "cell_type": "markdown",
   "id": "c3adb4f0",
   "metadata": {},
   "source": [
    "Se genera una conexion con la base de datos generada en el la tarea 1 del sprint anterior y se conecta con MySQL "
   ]
  },
  {
   "cell_type": "code",
   "execution_count": 2,
   "id": "14055041",
   "metadata": {},
   "outputs": [
    {
     "name": "stdout",
     "output_type": "stream",
     "text": [
      "<mysql.connector.connection_cext.CMySQLConnection object at 0x000002C798ACA4C0>\n"
     ]
    }
   ],
   "source": [
    "mydb = mysql.connector.connect(\n",
    "  host=\"localhost\",\n",
    "  user=\"root\",\n",
    "  passwd=\"\",\n",
    ")\n",
    "\n",
    "\n",
    "print(mydb)"
   ]
  },
  {
   "cell_type": "markdown",
   "id": "31b38502",
   "metadata": {},
   "source": [
    "## Nivel 2\n",
    "\n",
    "### - Ejercicio 2\n",
    "Muestra que puedes cargar algunas consultas sencillas a un Pandas Dataframe ."
   ]
  },
  {
   "cell_type": "code",
   "execution_count": 3,
   "id": "c2d6fbbd",
   "metadata": {},
   "outputs": [],
   "source": [
    "#select the database and create a conection\n",
    "mydb = mysql.connector.connect(\n",
    "  host=\"localhost\",\n",
    "  user=\"root\",\n",
    "  passwd=\"\",\n",
    "  database=\"s13t02\"\n",
    ")"
   ]
  },
  {
   "cell_type": "code",
   "execution_count": 4,
   "id": "0ed9ffc1",
   "metadata": {},
   "outputs": [
    {
     "name": "stdout",
     "output_type": "stream",
     "text": [
      "('information_schema',)\n",
      "('mydb',)\n",
      "('mysql',)\n",
      "('performance_schema',)\n",
      "('s13t01',)\n",
      "('s13t01_sql',)\n",
      "('s13t02',)\n",
      "('sakila',)\n",
      "('sys',)\n",
      "('world',)\n"
     ]
    }
   ],
   "source": [
    "#show the databases available in mysql\n",
    "cursor = mydb.cursor()\n",
    "cursor.execute(\"SHOW DATABASES\")\n",
    "\n",
    "for dbs in cursor:\n",
    "  print(dbs)"
   ]
  },
  {
   "cell_type": "code",
   "execution_count": 10,
   "id": "e51493e6",
   "metadata": {},
   "outputs": [
    {
     "name": "stdout",
     "output_type": "stream",
     "text": [
      "('client',)\n",
      "('establishment',)\n",
      "('list_product',)\n",
      "('product_type',)\n",
      "('transaction',)\n",
      "('worker',)\n"
     ]
    }
   ],
   "source": [
    "#show the databases available in mysql\n",
    "cursor = mydb.cursor()\n",
    "cursor.execute(\"SHOW TABLES\")\n",
    "\n",
    "for dbs in cursor:\n",
    "  print(dbs)"
   ]
  },
  {
   "cell_type": "markdown",
   "id": "faa522c6",
   "metadata": {},
   "source": [
    "Ahora traemos algunas de las tablas de la base de datos y la convertimos a pandas dataframe."
   ]
  },
  {
   "cell_type": "code",
   "execution_count": 6,
   "id": "e2649c4e",
   "metadata": {
    "scrolled": true
   },
   "outputs": [
    {
     "data": {
      "text/html": [
       "<div>\n",
       "<style scoped>\n",
       "    .dataframe tbody tr th:only-of-type {\n",
       "        vertical-align: middle;\n",
       "    }\n",
       "\n",
       "    .dataframe tbody tr th {\n",
       "        vertical-align: top;\n",
       "    }\n",
       "\n",
       "    .dataframe thead th {\n",
       "        text-align: right;\n",
       "    }\n",
       "</style>\n",
       "<table border=\"1\" class=\"dataframe\">\n",
       "  <thead>\n",
       "    <tr style=\"text-align: right;\">\n",
       "      <th></th>\n",
       "      <th>Client_ID</th>\n",
       "      <th>Client_name</th>\n",
       "      <th>Client_lastname</th>\n",
       "      <th>Client_address</th>\n",
       "      <th>Client_phone</th>\n",
       "      <th>Client_email</th>\n",
       "    </tr>\n",
       "  </thead>\n",
       "  <tbody>\n",
       "    <tr>\n",
       "      <th>0</th>\n",
       "      <td>1</td>\n",
       "      <td>Yovanna</td>\n",
       "      <td>Valencia</td>\n",
       "      <td>Barcelona</td>\n",
       "      <td>955111222</td>\n",
       "      <td>yv@gmail.com</td>\n",
       "    </tr>\n",
       "    <tr>\n",
       "      <th>1</th>\n",
       "      <td>2</td>\n",
       "      <td>Benjamin</td>\n",
       "      <td>Guiraud</td>\n",
       "      <td>Tarragona</td>\n",
       "      <td>955222333</td>\n",
       "      <td>bg@gmail.com</td>\n",
       "    </tr>\n",
       "    <tr>\n",
       "      <th>2</th>\n",
       "      <td>3</td>\n",
       "      <td>Yulianna</td>\n",
       "      <td>Barba</td>\n",
       "      <td>Madrid</td>\n",
       "      <td>966333444</td>\n",
       "      <td>yb@gmail.com</td>\n",
       "    </tr>\n",
       "    <tr>\n",
       "      <th>3</th>\n",
       "      <td>4</td>\n",
       "      <td>Ezequiel</td>\n",
       "      <td>Aguirre</td>\n",
       "      <td>Castelldefels</td>\n",
       "      <td>966444555</td>\n",
       "      <td>ea@gmail.com</td>\n",
       "    </tr>\n",
       "  </tbody>\n",
       "</table>\n",
       "</div>"
      ],
      "text/plain": [
       "   Client_ID Client_name Client_lastname Client_address  Client_phone  \\\n",
       "0          1     Yovanna        Valencia      Barcelona     955111222   \n",
       "1          2    Benjamin         Guiraud      Tarragona     955222333   \n",
       "2          3    Yulianna           Barba         Madrid     966333444   \n",
       "3          4    Ezequiel         Aguirre  Castelldefels     966444555   \n",
       "\n",
       "   Client_email  \n",
       "0  yv@gmail.com  \n",
       "1  bg@gmail.com  \n",
       "2  yb@gmail.com  \n",
       "3  ea@gmail.com  "
      ]
     },
     "execution_count": 6,
     "metadata": {},
     "output_type": "execute_result"
    }
   ],
   "source": [
    "# CUSTOMER dataframe\n",
    "sql = 'SELECT * FROM client'\n",
    "\n",
    "clients_df = pd.read_sql(sql, mydb);\n",
    "clients_df"
   ]
  },
  {
   "cell_type": "code",
   "execution_count": 7,
   "id": "2527826f",
   "metadata": {},
   "outputs": [
    {
     "data": {
      "text/html": [
       "<div>\n",
       "<style scoped>\n",
       "    .dataframe tbody tr th:only-of-type {\n",
       "        vertical-align: middle;\n",
       "    }\n",
       "\n",
       "    .dataframe tbody tr th {\n",
       "        vertical-align: top;\n",
       "    }\n",
       "\n",
       "    .dataframe thead th {\n",
       "        text-align: right;\n",
       "    }\n",
       "</style>\n",
       "<table border=\"1\" class=\"dataframe\">\n",
       "  <thead>\n",
       "    <tr style=\"text-align: right;\">\n",
       "      <th></th>\n",
       "      <th>Establishment_ID</th>\n",
       "      <th>Estblishment_name</th>\n",
       "      <th>Establishment_address</th>\n",
       "      <th>Establishment_phone</th>\n",
       "      <th>Establishment_email</th>\n",
       "    </tr>\n",
       "  </thead>\n",
       "  <tbody>\n",
       "    <tr>\n",
       "      <th>0</th>\n",
       "      <td>1</td>\n",
       "      <td>Nike</td>\n",
       "      <td>Pg. de Gràcia, 17, 08007 Barcelona</td>\n",
       "      <td>932714503</td>\n",
       "      <td>nike@nike.com</td>\n",
       "    </tr>\n",
       "    <tr>\n",
       "      <th>1</th>\n",
       "      <td>2</td>\n",
       "      <td>Nike L’Illa</td>\n",
       "      <td>Avinguda Diagonal, 557, 08029 Barcelona</td>\n",
       "      <td>932714503</td>\n",
       "      <td>nikel@nike.com</td>\n",
       "    </tr>\n",
       "    <tr>\n",
       "      <th>2</th>\n",
       "      <td>3</td>\n",
       "      <td>Nike Store - Les Rambles</td>\n",
       "      <td>La Rambla, 120, 08002 Barcelona</td>\n",
       "      <td>933015548</td>\n",
       "      <td>niker@nike.com</td>\n",
       "    </tr>\n",
       "    <tr>\n",
       "      <th>3</th>\n",
       "      <td>4</td>\n",
       "      <td>adidas Brand Center Barcelona</td>\n",
       "      <td>Pg. de Gràcia, 3, 08007 Barcelona</td>\n",
       "      <td>918368867</td>\n",
       "      <td>adidas@adidas.com</td>\n",
       "    </tr>\n",
       "    <tr>\n",
       "      <th>4</th>\n",
       "      <td>5</td>\n",
       "      <td>adidas Store Barcelona</td>\n",
       "      <td>Avinguda Diagonal, 208, 08018 Barcelona</td>\n",
       "      <td>918368868</td>\n",
       "      <td>adidas2@adidas.com</td>\n",
       "    </tr>\n",
       "  </tbody>\n",
       "</table>\n",
       "</div>"
      ],
      "text/plain": [
       "   Establishment_ID              Estblishment_name  \\\n",
       "0                 1                           Nike   \n",
       "1                 2                    Nike L’Illa   \n",
       "2                 3       Nike Store - Les Rambles   \n",
       "3                 4  adidas Brand Center Barcelona   \n",
       "4                 5         adidas Store Barcelona   \n",
       "\n",
       "                     Establishment_address  Establishment_phone  \\\n",
       "0       Pg. de Gràcia, 17, 08007 Barcelona            932714503   \n",
       "1  Avinguda Diagonal, 557, 08029 Barcelona            932714503   \n",
       "2          La Rambla, 120, 08002 Barcelona            933015548   \n",
       "3        Pg. de Gràcia, 3, 08007 Barcelona            918368867   \n",
       "4  Avinguda Diagonal, 208, 08018 Barcelona            918368868   \n",
       "\n",
       "  Establishment_email  \n",
       "0       nike@nike.com  \n",
       "1      nikel@nike.com  \n",
       "2      niker@nike.com  \n",
       "3   adidas@adidas.com  \n",
       "4  adidas2@adidas.com  "
      ]
     },
     "execution_count": 7,
     "metadata": {},
     "output_type": "execute_result"
    }
   ],
   "source": [
    "# CUSTOMER dataframe\n",
    "sql = 'SELECT * FROM establishment'\n",
    "\n",
    "establishment_df = pd.read_sql(sql, mydb);\n",
    "establishment_df"
   ]
  },
  {
   "cell_type": "code",
   "execution_count": 11,
   "id": "f2e5dad2",
   "metadata": {},
   "outputs": [
    {
     "data": {
      "text/html": [
       "<div>\n",
       "<style scoped>\n",
       "    .dataframe tbody tr th:only-of-type {\n",
       "        vertical-align: middle;\n",
       "    }\n",
       "\n",
       "    .dataframe tbody tr th {\n",
       "        vertical-align: top;\n",
       "    }\n",
       "\n",
       "    .dataframe thead th {\n",
       "        text-align: right;\n",
       "    }\n",
       "</style>\n",
       "<table border=\"1\" class=\"dataframe\">\n",
       "  <thead>\n",
       "    <tr style=\"text-align: right;\">\n",
       "      <th></th>\n",
       "      <th>Product_ID</th>\n",
       "      <th>Type_ID</th>\n",
       "      <th>Product_name</th>\n",
       "      <th>Product_quantity</th>\n",
       "      <th>Product_unit_cost</th>\n",
       "      <th>Product_description</th>\n",
       "    </tr>\n",
       "  </thead>\n",
       "  <tbody>\n",
       "    <tr>\n",
       "      <th>0</th>\n",
       "      <td>1</td>\n",
       "      <td>1</td>\n",
       "      <td>ZAPATILLA BUSENITZ PRO</td>\n",
       "      <td>10</td>\n",
       "      <td>90</td>\n",
       "      <td>Core Black / Footwear White / Gold Metallic</td>\n",
       "    </tr>\n",
       "    <tr>\n",
       "      <th>1</th>\n",
       "      <td>2</td>\n",
       "      <td>2</td>\n",
       "      <td>ZAPATILLA ADIDAS 4D FWD_PULSE</td>\n",
       "      <td>10</td>\n",
       "      <td>160</td>\n",
       "      <td>Core Black / Magic Grey / Blue Rush</td>\n",
       "    </tr>\n",
       "    <tr>\n",
       "      <th>2</th>\n",
       "      <td>3</td>\n",
       "      <td>3</td>\n",
       "      <td>ZAPATILLA DURAMO SL 2.0</td>\n",
       "      <td>10</td>\n",
       "      <td>60</td>\n",
       "      <td>Shadow Navy / Halo Silver / Legend Ink</td>\n",
       "    </tr>\n",
       "    <tr>\n",
       "      <th>3</th>\n",
       "      <td>4</td>\n",
       "      <td>1</td>\n",
       "      <td>Nike Air Force 1 '07 LV8</td>\n",
       "      <td>10</td>\n",
       "      <td>120</td>\n",
       "      <td>Blanco/Dark Sulfur/Opti Yellow/Negro</td>\n",
       "    </tr>\n",
       "    <tr>\n",
       "      <th>4</th>\n",
       "      <td>5</td>\n",
       "      <td>2</td>\n",
       "      <td>Nike Winflo 8</td>\n",
       "      <td>10</td>\n",
       "      <td>100</td>\n",
       "      <td>Negro/Dark Smoke Grey/Blanco</td>\n",
       "    </tr>\n",
       "    <tr>\n",
       "      <th>5</th>\n",
       "      <td>6</td>\n",
       "      <td>3</td>\n",
       "      <td>Nike Legend Essential 2</td>\n",
       "      <td>10</td>\n",
       "      <td>60</td>\n",
       "      <td>Negro/Plata metalizado/Blanco</td>\n",
       "    </tr>\n",
       "  </tbody>\n",
       "</table>\n",
       "</div>"
      ],
      "text/plain": [
       "   Product_ID  Type_ID                   Product_name  Product_quantity  \\\n",
       "0           1        1         ZAPATILLA BUSENITZ PRO                10   \n",
       "1           2        2  ZAPATILLA ADIDAS 4D FWD_PULSE                10   \n",
       "2           3        3        ZAPATILLA DURAMO SL 2.0                10   \n",
       "3           4        1       Nike Air Force 1 '07 LV8                10   \n",
       "4           5        2                  Nike Winflo 8                10   \n",
       "5           6        3        Nike Legend Essential 2                10   \n",
       "\n",
       "   Product_unit_cost                          Product_description  \n",
       "0                 90  Core Black / Footwear White / Gold Metallic  \n",
       "1                160          Core Black / Magic Grey / Blue Rush  \n",
       "2                 60       Shadow Navy / Halo Silver / Legend Ink  \n",
       "3                120         Blanco/Dark Sulfur/Opti Yellow/Negro  \n",
       "4                100                 Negro/Dark Smoke Grey/Blanco  \n",
       "5                 60                Negro/Plata metalizado/Blanco  "
      ]
     },
     "execution_count": 11,
     "metadata": {},
     "output_type": "execute_result"
    }
   ],
   "source": [
    "# CUSTOMER dataframe\n",
    "sql = 'SELECT * FROM list_product'\n",
    "\n",
    "list_product_df = pd.read_sql(sql, mydb);\n",
    "list_product_df"
   ]
  },
  {
   "cell_type": "code",
   "execution_count": 9,
   "id": "cc7bdfde",
   "metadata": {
    "scrolled": true
   },
   "outputs": [
    {
     "data": {
      "text/html": [
       "<div>\n",
       "<style scoped>\n",
       "    .dataframe tbody tr th:only-of-type {\n",
       "        vertical-align: middle;\n",
       "    }\n",
       "\n",
       "    .dataframe tbody tr th {\n",
       "        vertical-align: top;\n",
       "    }\n",
       "\n",
       "    .dataframe thead th {\n",
       "        text-align: right;\n",
       "    }\n",
       "</style>\n",
       "<table border=\"1\" class=\"dataframe\">\n",
       "  <thead>\n",
       "    <tr style=\"text-align: right;\">\n",
       "      <th></th>\n",
       "      <th>Transaction_ID</th>\n",
       "      <th>Product_ID</th>\n",
       "      <th>Worker_ID</th>\n",
       "      <th>Client_ID</th>\n",
       "      <th>Establishment_ID</th>\n",
       "      <th>Transaction_date</th>\n",
       "    </tr>\n",
       "  </thead>\n",
       "  <tbody>\n",
       "    <tr>\n",
       "      <th>0</th>\n",
       "      <td>1</td>\n",
       "      <td>1</td>\n",
       "      <td>1</td>\n",
       "      <td>1</td>\n",
       "      <td>1</td>\n",
       "      <td>2022-05-05</td>\n",
       "    </tr>\n",
       "    <tr>\n",
       "      <th>1</th>\n",
       "      <td>2</td>\n",
       "      <td>2</td>\n",
       "      <td>1</td>\n",
       "      <td>1</td>\n",
       "      <td>2</td>\n",
       "      <td>2022-06-06</td>\n",
       "    </tr>\n",
       "    <tr>\n",
       "      <th>2</th>\n",
       "      <td>3</td>\n",
       "      <td>3</td>\n",
       "      <td>2</td>\n",
       "      <td>2</td>\n",
       "      <td>3</td>\n",
       "      <td>2022-04-04</td>\n",
       "    </tr>\n",
       "    <tr>\n",
       "      <th>3</th>\n",
       "      <td>4</td>\n",
       "      <td>4</td>\n",
       "      <td>3</td>\n",
       "      <td>3</td>\n",
       "      <td>4</td>\n",
       "      <td>2022-03-03</td>\n",
       "    </tr>\n",
       "    <tr>\n",
       "      <th>4</th>\n",
       "      <td>5</td>\n",
       "      <td>5</td>\n",
       "      <td>4</td>\n",
       "      <td>4</td>\n",
       "      <td>4</td>\n",
       "      <td>2022-02-02</td>\n",
       "    </tr>\n",
       "    <tr>\n",
       "      <th>5</th>\n",
       "      <td>6</td>\n",
       "      <td>6</td>\n",
       "      <td>4</td>\n",
       "      <td>3</td>\n",
       "      <td>2</td>\n",
       "      <td>2022-02-04</td>\n",
       "    </tr>\n",
       "  </tbody>\n",
       "</table>\n",
       "</div>"
      ],
      "text/plain": [
       "   Transaction_ID  Product_ID  Worker_ID  Client_ID  Establishment_ID  \\\n",
       "0               1           1          1          1                 1   \n",
       "1               2           2          1          1                 2   \n",
       "2               3           3          2          2                 3   \n",
       "3               4           4          3          3                 4   \n",
       "4               5           5          4          4                 4   \n",
       "5               6           6          4          3                 2   \n",
       "\n",
       "  Transaction_date  \n",
       "0       2022-05-05  \n",
       "1       2022-06-06  \n",
       "2       2022-04-04  \n",
       "3       2022-03-03  \n",
       "4       2022-02-02  \n",
       "5       2022-02-04  "
      ]
     },
     "execution_count": 9,
     "metadata": {},
     "output_type": "execute_result"
    }
   ],
   "source": [
    "# CUSTOMER dataframe\n",
    "sql = 'SELECT * FROM transaction'\n",
    "\n",
    "transaction_df = pd.read_sql(sql, mydb);\n",
    "transaction_df"
   ]
  },
  {
   "cell_type": "markdown",
   "id": "4c269736",
   "metadata": {},
   "source": [
    "## Nivel 3\n",
    "### - Ejercicio 3\n",
    "Genera algún gráfico que resuma los datos.\n",
    "___\n",
    "La base de datos creada no contiene muchas transacciones, pero se ha realizado un grafico que observa las transacciones realizadas por los clientes:"
   ]
  },
  {
   "cell_type": "code",
   "execution_count": 27,
   "id": "bb47ea27",
   "metadata": {
    "scrolled": false
   },
   "outputs": [
    {
     "data": {
      "text/plain": [
       "<seaborn.axisgrid.FacetGrid at 0x2c7a00749a0>"
      ]
     },
     "execution_count": 27,
     "metadata": {},
     "output_type": "execute_result"
    },
    {
     "data": {
      "image/png": "[encoded data removed]",
      "text/plain": [
       "<Figure size 360x360 with 1 Axes>"
      ]
     },
     "metadata": {
      "needs_background": "light"
     },
     "output_type": "display_data"
    }
   ],
   "source": [
    "sns.catplot(x=transaction_df['Client_ID'], y= transaction_df['Transaction_ID'],data=transaction_df)"
   ]
  },
  {
   "cell_type": "markdown",
   "id": "5ff969d8",
   "metadata": {},
   "source": [
    "En el siguiente grafico se pueden observar los precios de los productos de la lista:"
   ]
  },
  {
   "cell_type": "code",
   "execution_count": 23,
   "id": "51dd2d09",
   "metadata": {},
   "outputs": [
    {
     "data": {
      "text/plain": [
       "<AxesSubplot:xlabel='Product_ID', ylabel='Product_unit_cost'>"
      ]
     },
     "execution_count": 23,
     "metadata": {},
     "output_type": "execute_result"
    },
    {
     "data": {
      "image/png": "[encoded data removed]",
      "text/plain": [
       "<Figure size 432x288 with 1 Axes>"
      ]
     },
     "metadata": {
      "needs_background": "light"
     },
     "output_type": "display_data"
    }
   ],
   "source": [
    "sns.barplot(x=list_product_df['Product_ID'], y= list_product_df['Product_unit_cost'],data=list_product_df)"
   ]
  },
  {
   "cell_type": "markdown",
   "id": "87f54125",
   "metadata": {},
   "source": [
    "Nota: Con una base de datos de mayor volumen se podrian realizar analisis visuales de mayor extension."
   ]
  }
 ],
 "metadata": {
  "kernelspec": {
   "display_name": "Python 3",
   "language": "python",
   "name": "python3"
  },
  "language_info": {
   "codemirror_mode": {
    "name": "ipython",
    "version": 3
   },
   "file_extension": ".py",
   "mimetype": "text/x-python",
   "name": "python",
   "nbconvert_exporter": "python",
   "pygments_lexer": "ipython3",
   "version": "3.8.8"
  }
 },
 "nbformat": 4,
 "nbformat_minor": 5
}
